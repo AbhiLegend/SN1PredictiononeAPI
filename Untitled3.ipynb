{
 "cells": [
  {
   "cell_type": "code",
   "execution_count": 1,
   "id": "b1e7368d-cc64-4eb7-a2a1-94b4bfd731ea",
   "metadata": {},
   "outputs": [
    {
     "name": "stdout",
     "output_type": "stream",
     "text": [
      "Defaulting to user installation because normal site-packages is not writeable\n",
      "Collecting rdkit\n",
      "  Downloading rdkit-2023.9.4-cp39-cp39-manylinux_2_17_x86_64.manylinux2014_x86_64.whl (34.4 MB)\n",
      "\u001b[2K     \u001b[90m━━━━━━━━━━━━━━━━━━━━━━━━━━━━━━━━━━━━━━━━\u001b[0m \u001b[32m34.4/34.4 MB\u001b[0m \u001b[31m53.9 MB/s\u001b[0m eta \u001b[36m0:00:00\u001b[0m00:01\u001b[0m00:01\u001b[0m\n",
      "\u001b[?25hRequirement already satisfied: numpy in /opt/intel/oneapi/intelpython/python3.9/lib/python3.9/site-packages (from rdkit) (1.24.3)\n",
      "Requirement already satisfied: Pillow in /opt/intel/oneapi/intelpython/python3.9/lib/python3.9/site-packages (from rdkit) (10.0.0)\n",
      "Installing collected packages: rdkit\n",
      "Successfully installed rdkit-2023.9.4\n"
     ]
    }
   ],
   "source": [
    "! pip install rdkit"
   ]
  },
  {
   "cell_type": "code",
   "execution_count": 2,
   "id": "42dc80d5-a655-4563-a3a4-07eaaac20c4f",
   "metadata": {},
   "outputs": [
    {
     "name": "stderr",
     "output_type": "stream",
     "text": [
      "Intel(R) Extension for Scikit-learn* enabled (https://github.com/intel/scikit-learn-intelex)\n"
     ]
    }
   ],
   "source": [
    "from rdkit import Chem\n",
    "from rdkit.Chem import Descriptors, Draw\n",
    "from sklearn.ensemble import RandomForestClassifier\n",
    "import pandas as pd\n",
    "import numpy as np\n",
    "from IPython.display import display, Image"
   ]
  },
  {
   "cell_type": "code",
   "execution_count": 3,
   "id": "61949d7f-523f-4a99-8cda-d08e469052d3",
   "metadata": {},
   "outputs": [],
   "source": [
    "from ipywidgets import interact, widgets"
   ]
  },
  {
   "cell_type": "code",
   "execution_count": 4,
   "id": "7cc8f89a-1f88-4a8f-97c7-ce658d62912c",
   "metadata": {},
   "outputs": [],
   "source": [
    "# Function definitions (unchanged)\n",
    "def generate_synthetic_data():\n",
    "    base_smiles = [\"CCCl\", \"CCBr\", \"CCC\", \"CCO\"]\n",
    "    functional_groups = [\"Cl\", \"Br\", \"I\", \"O\", \"C=O\"]\n",
    "    \n",
    "    synthetic_molecules = []\n",
    "    for base in base_smiles:\n",
    "        base_mol = Chem.MolFromSmiles(base)\n",
    "        if not base_mol:\n",
    "            continue\n",
    "        for fg in functional_groups:\n",
    "            synthetic_smiles = base + \".\" + fg\n",
    "            synthetic_mol = Chem.MolFromSmiles(synthetic_smiles)\n",
    "            if synthetic_mol:\n",
    "                synthetic_molecules.append(synthetic_smiles)\n",
    "    \n",
    "    synthetic_molecules = list(set(synthetic_molecules))\n",
    "    \n",
    "    data = []\n",
    "    for smi in synthetic_molecules:\n",
    "        mol = Chem.MolFromSmiles(smi)\n",
    "        if mol:\n",
    "            mw = Descriptors.MolWt(mol)\n",
    "            logp = Descriptors.MolLogP(mol)\n",
    "            sn1_reaction = np.random.choice([0, 1])\n",
    "            data.append({\"SMILES\": smi, \"Molecular Weight\": mw, \"logP\": logp, \"SN1\": sn1_reaction})\n",
    "    \n",
    "    return pd.DataFrame(data)"
   ]
  },
  {
   "cell_type": "code",
   "execution_count": 5,
   "id": "e979a931-35fd-4aec-b4a0-0029b1d8af2e",
   "metadata": {},
   "outputs": [],
   "source": [
    "def train_model(df):\n",
    "    X = df[['Molecular Weight', 'logP']]\n",
    "    y = df['SN1']\n",
    "    clf = RandomForestClassifier(random_state=42)\n",
    "    clf.fit(X, y)\n",
    "    return clf\n",
    "\n",
    "def calculate_descriptors(smiles):\n",
    "    mol = Chem.MolFromSmiles(smiles)\n",
    "    if mol:\n",
    "        mw = Descriptors.MolWt(mol)\n",
    "        logp = Descriptors.MolLogP(mol)\n",
    "        return mw, logp\n",
    "    else:\n",
    "        return None, None"
   ]
  },
  {
   "cell_type": "code",
   "execution_count": 7,
   "id": "ef1d6ab5-c32b-4678-b6e4-d10277789852",
   "metadata": {},
   "outputs": [],
   "source": [
    "# Visualization function\n",
    "def visualize_molecule(smiles):\n",
    "    mol = Chem.MolFromSmiles(smiles)\n",
    "    if mol:\n",
    "        img = Draw.MolToImage(mol)\n",
    "        display(img)\n",
    "    else:\n",
    "        print(\"Invalid SMILES string. Please enter a valid SMILEs\")"
   ]
  },
  {
   "cell_type": "code",
   "execution_count": 8,
   "id": "f17d27c0-d52e-47c7-ae78-8b233d40c600",
   "metadata": {},
   "outputs": [
    {
     "data": {
      "application/vnd.jupyter.widget-view+json": {
       "model_id": "3922c561b0134040aa7242ab044f09b8",
       "version_major": 2,
       "version_minor": 0
      },
      "text/plain": [
       "interactive(children=(Text(value='CCCl', description='SMILES:'), Output()), _dom_classes=('widget-interact',))"
      ]
     },
     "metadata": {},
     "output_type": "display_data"
    },
    {
     "data": {
      "text/plain": [
       "<function __main__.main(smiles='CCCl')>"
      ]
     },
     "execution_count": 8,
     "metadata": {},
     "output_type": "execute_result"
    }
   ],
   "source": [
    "# Interactive SMILES input and visualization\n",
    "def main(smiles=\"CCCl\"):\n",
    "    mw, logp = calculate_descriptors(smiles)\n",
    "    if mw and logp:\n",
    "        print(f\"Molecular Weight: {mw}, logP: {logp}\")\n",
    "        visualize_molecule(smiles)\n",
    "        \n",
    "        # Predict the reaction outcome if a model has been trained\n",
    "        if 'model' in globals():\n",
    "            prediction = model.predict(np.array([[mw, logp]]))\n",
    "            outcome = \"likely\" if prediction[0] == 1 else \"unlikely\"\n",
    "            print(f\"The molecule is {outcome} to undergo an SN1 reaction.\")\n",
    "        else:\n",
    "            print(\"Model has not been trained yet.\")\n",
    "    else:\n",
    "        print(\"Invalid SMILES string. Please enter a valid SMILES.\")\n",
    "\n",
    "# Generate synthetic data and train the model\n",
    "df_synthetic = generate_synthetic_data()\n",
    "model = train_model(df_synthetic)\n",
    "\n",
    "# Create an interactive widget for SMILES input\n",
    "interact(main, smiles=widgets.Text(value=\"CCCl\", description=\"SMILES:\"))"
   ]
  },
  {
   "cell_type": "code",
   "execution_count": null,
   "id": "5d0007e0-4cd4-4778-a251-52e42bc32b22",
   "metadata": {},
   "outputs": [],
   "source": []
  }
 ],
 "metadata": {
  "kernelspec": {
   "display_name": "base",
   "language": "python",
   "name": "base"
  },
  "language_info": {
   "codemirror_mode": {
    "name": "ipython",
    "version": 3
   },
   "file_extension": ".py",
   "mimetype": "text/x-python",
   "name": "python",
   "nbconvert_exporter": "python",
   "pygments_lexer": "ipython3",
   "version": "3.9.16"
  }
 },
 "nbformat": 4,
 "nbformat_minor": 5
}
